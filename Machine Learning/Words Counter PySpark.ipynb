{
 "cells": [
  {
   "cell_type": "markdown",
   "id": "complete-religion",
   "metadata": {},
   "source": [
    "### Word count on \"William Shakespear The Tragedy of Hamlet.txt\""
   ]
  },
  {
   "cell_type": "code",
   "execution_count": 2,
   "id": "sharing-genetics",
   "metadata": {},
   "outputs": [],
   "source": [
    "# import regex module\n",
    "import re"
   ]
  },
  {
   "cell_type": "code",
   "execution_count": 3,
   "id": "clinical-isolation",
   "metadata": {},
   "outputs": [],
   "source": [
    "# import add from operator module\n",
    "from operator import add"
   ]
  },
  {
   "cell_type": "code",
   "execution_count": 10,
   "id": "together-colombia",
   "metadata": {},
   "outputs": [],
   "source": [
    "# read imput file\n",
    "file_in = sc.textFile('William Shakespeare - The Tragedy of Hamlet.txt')"
   ]
  },
  {
   "cell_type": "code",
   "execution_count": 12,
   "id": "substantial-artwork",
   "metadata": {},
   "outputs": [
    {
     "name": "stdout",
     "output_type": "stream",
     "text": [
      "Number of lines in file: 7884\n"
     ]
    }
   ],
   "source": [
    "# count lines\n",
    "print(f'Number of lines in file: {file_in.count()}')"
   ]
  },
  {
   "cell_type": "code",
   "execution_count": 13,
   "id": "economic-wellington",
   "metadata": {},
   "outputs": [
    {
     "name": "stdout",
     "output_type": "stream",
     "text": [
      "Number of characters in file: 186459\n"
     ]
    }
   ],
   "source": [
    "# add up lengths of each line\n",
    "chars = file_in.map(lambda s: len(s)).reduce(add)\n",
    "print(f'Number of characters in file: {chars}')"
   ]
  },
  {
   "cell_type": "code",
   "execution_count": 26,
   "id": "defensive-representation",
   "metadata": {},
   "outputs": [],
   "source": [
    "# get words from the input file\n",
    "words = file_in.flatMap(lambda line: re.split('\\W+', line.lower().strip()))"
   ]
  },
  {
   "cell_type": "code",
   "execution_count": 27,
   "id": "ready-polls",
   "metadata": {},
   "outputs": [],
   "source": [
    "# words of more than 3 characters\n",
    "words = words.filter(lambda x: len(x) > 3)"
   ]
  },
  {
   "cell_type": "code",
   "execution_count": 28,
   "id": "reported-regular",
   "metadata": {},
   "outputs": [],
   "source": [
    "# set count 1 per word\n",
    "words = words.map(lambda w: (w,1))"
   ]
  },
  {
   "cell_type": "code",
   "execution_count": 29,
   "id": "hollow-forest",
   "metadata": {},
   "outputs": [],
   "source": [
    "# reduce phase - sum count all the words\n",
    "words = words.reduceByKey(add)"
   ]
  },
  {
   "cell_type": "code",
   "execution_count": 37,
   "id": "integrated-officer",
   "metadata": {},
   "outputs": [],
   "source": [
    "# create tuple (count, word) and sort in descending\n",
    "words = words.map(lambda x: (x[1], x[0])).sortByKey(False)"
   ]
  },
  {
   "cell_type": "code",
   "execution_count": 38,
   "id": "completed-timing",
   "metadata": {},
   "outputs": [
    {
     "data": {
      "text/plain": [
       "[(470, 'hamlet'),\n",
       " (407, 'that'),\n",
       " (311, 'lord'),\n",
       " (297, 'this'),\n",
       " (268, 'with'),\n",
       " (242, 'your'),\n",
       " (218, 'what'),\n",
       " (202, 'king'),\n",
       " (182, 'have'),\n",
       " (169, 'will'),\n",
       " (158, 'horatio'),\n",
       " (120, 'claudius'),\n",
       " (119, 'queen'),\n",
       " (119, 'polonius'),\n",
       " (114, 'shall'),\n",
       " (109, 'good'),\n",
       " (107, 'thou'),\n",
       " (106, 'come'),\n",
       " (105, 'laertes'),\n",
       " (104, 'they')]"
      ]
     },
     "execution_count": 38,
     "metadata": {},
     "output_type": "execute_result"
    }
   ],
   "source": [
    "# take top 20 words by frequency\n",
    "words.take(20)"
   ]
  },
  {
   "cell_type": "code",
   "execution_count": 61,
   "id": "finnish-clearance",
   "metadata": {},
   "outputs": [],
   "source": [
    "# create function for histogram of most frequent words\n",
    "%matplotlib inline\n",
    "import matplotlib.pyplot as plt\n",
    "\n",
    "def histogram(words):\n",
    "    count = list(map(lambda x: x[1], words))\n",
    "    word = list(map(lambda x: x[0], words))\n",
    "    plt.barh(range(len(count)), count, color = 'grey')\n",
    "    plt.yticks(range(len(count)), word)"
   ]
  },
  {
   "cell_type": "code",
   "execution_count": 64,
   "id": "geographic-cathedral",
   "metadata": {},
   "outputs": [
    {
     "data": {
      "text/plain": [
       "[('hamlet', 470),\n",
       " ('that', 407),\n",
       " ('lord', 311),\n",
       " ('this', 297),\n",
       " ('with', 268),\n",
       " ('your', 242),\n",
       " ('what', 218),\n",
       " ('king', 202),\n",
       " ('have', 182),\n",
       " ('will', 169),\n",
       " ('horatio', 158),\n",
       " ('claudius', 120),\n",
       " ('queen', 119),\n",
       " ('polonius', 119),\n",
       " ('shall', 114),\n",
       " ('good', 109),\n",
       " ('thou', 107),\n",
       " ('come', 106),\n",
       " ('laertes', 105),\n",
       " ('they', 104),\n",
       " ('more', 96),\n",
       " ('there', 95),\n",
       " ('gertrude', 95),\n",
       " ('from', 95),\n",
       " ('ophelia', 87)]"
      ]
     },
     "execution_count": 64,
     "metadata": {},
     "output_type": "execute_result"
    }
   ],
   "source": [
    "# change order of tuple (word, count) from (count, word)\n",
    "words = words.map(lambda x:(x[1], x[0]))\n",
    "words.take(25)"
   ]
  },
  {
   "cell_type": "code",
   "execution_count": 65,
   "id": "complicated-yemen",
   "metadata": {},
   "outputs": [
    {
     "data": {
      "image/png": "[encoded data removed]",
      "text/plain": [
       "<Figure size 432x288 with 1 Axes>"
      ]
     },
     "metadata": {
      "needs_background": "light"
     },
     "output_type": "display_data"
    }
   ],
   "source": [
    "# display histogram\n",
    "histogram(words.take(20))"
   ]
  }
 ],
 "metadata": {
  "kernelspec": {
   "display_name": "Python 3",
   "language": "python",
   "name": "python3"
  },
  "language_info": {
   "codemirror_mode": {
    "name": "ipython",
    "version": 3
   },
   "file_extension": ".py",
   "mimetype": "text/x-python",
   "name": "python",
   "nbconvert_exporter": "python",
   "pygments_lexer": "ipython3",
   "version": "3.7.6"
  }
 },
 "nbformat": 4,
 "nbformat_minor": 5
}
